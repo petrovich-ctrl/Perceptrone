{
 "cells": [
  {
   "cell_type": "code",
   "execution_count": 1,
   "metadata": {},
   "outputs": [],
   "source": [
    "import numpy as np\n",
    "\n",
    "epsilon=10**(-3)"
   ]
  },
  {
   "cell_type": "code",
   "execution_count": 2,
   "metadata": {},
   "outputs": [],
   "source": [
    "def check_circle(x,a,r, epsilon):\n",
    "    if ((x[0]-a[0])**2)+((x[1]-a[1])**2)>(r**2)+epsilon:\n",
    "        return 0\n",
    "    elif ((x[0]-a[0])**2)+((x[1]-a[1])**2)<(r**2)-epsilon:\n",
    "        return 1\n",
    "    else :\n",
    "        return -1\n"
   ]
  },
  {
   "cell_type": "code",
   "execution_count": 3,
   "metadata": {},
   "outputs": [],
   "source": [
    "def generate(a1,a2,a3,a4,amount):\n",
    "    x_coor = np.array([(np.random.rand()*(a2 - a1) + a1) for i in range(amount)])\n",
    "    y_coor = np.array([(np.random.rand()*(a4 - a3) + a3) for i in range(amount)])\n",
    "    res=np.array([x_coor,y_coor,(x_coor**2)+(y_coor**2),np.ones(amount)])\n",
    "    return res"
   ]
  },
  {
   "cell_type": "code",
   "execution_count": 4,
   "metadata": {},
   "outputs": [],
   "source": [
    "center=[3.0,2.0]\n",
    "r=3.0"
   ]
  },
  {
   "cell_type": "code",
   "execution_count": 5,
   "metadata": {},
   "outputs": [],
   "source": [
    "points=generate(-10,10,-10,10,1000)"
   ]
  },
  {
   "cell_type": "code",
   "execution_count": 6,
   "metadata": {},
   "outputs": [],
   "source": [
    "points=points.transpose()"
   ]
  },
  {
   "cell_type": "code",
   "execution_count": 7,
   "metadata": {},
   "outputs": [
    {
     "data": {
      "text/plain": [
       "array([ 2.8975064 , -0.57701504,  8.72848969,  1.        ])"
      ]
     },
     "execution_count": 7,
     "metadata": {},
     "output_type": "execute_result"
    }
   ],
   "source": [
    "points[2]"
   ]
  },
  {
   "cell_type": "code",
   "execution_count": 8,
   "metadata": {
    "scrolled": true
   },
   "outputs": [
    {
     "data": {
      "text/plain": [
       "0.069"
      ]
     },
     "execution_count": 8,
     "metadata": {},
     "output_type": "execute_result"
    }
   ],
   "source": [
    "label=np.zeros(len(points))\n",
    "for i in range(len(points)):\n",
    "    label[i]=check_circle(points[i],center,r,epsilon)\n",
    "label.mean()"
   ]
  },
  {
   "cell_type": "code",
   "execution_count": 9,
   "metadata": {},
   "outputs": [],
   "source": [
    "alpha=np.array([0.0,0.0,1.0,0.0])"
   ]
  },
  {
   "cell_type": "code",
   "execution_count": 10,
   "metadata": {},
   "outputs": [],
   "source": [
    "def scalar_prod(a,b):\n",
    "    res=0\n",
    "    for i in range(len(a)):\n",
    "        res+=a[i]*b[i]\n",
    "    return res"
   ]
  },
  {
   "cell_type": "code",
   "execution_count": 11,
   "metadata": {},
   "outputs": [],
   "source": [
    "a=0\n",
    "#algorithm\n",
    "while(a==0):\n",
    "    for i in range(len(points)):\n",
    "        if alpha.dot(points[i])>0 and label[i]==0:\n",
    "            #print(i)\n",
    "            alpha=alpha-points[i]\n",
    "            break\n",
    "        if alpha.dot(points[i])<=0 and label[i]==1:\n",
    "            #print(i)\n",
    "            alpha=alpha+points[i]\n",
    "            break\n",
    "        if i==len(points)-1:\n",
    "            a=1\n",
    "            break\n",
    "        #alpha=alpha/alpha[2]"
   ]
  },
  {
   "cell_type": "code",
   "execution_count": 12,
   "metadata": {},
   "outputs": [
    {
     "data": {
      "text/plain": [
       "array([ 812.27594761,  554.24434744, -139.73604127, -515.        ])"
      ]
     },
     "execution_count": 12,
     "metadata": {},
     "output_type": "execute_result"
    }
   ],
   "source": [
    "alpha"
   ]
  },
  {
   "cell_type": "code",
   "execution_count": 15,
   "metadata": {},
   "outputs": [
    {
     "data": {
      "text/plain": [
       "1.9831832304005177"
      ]
     },
     "execution_count": 15,
     "metadata": {},
     "output_type": "execute_result"
    }
   ],
   "source": [
    "center_y=(-1/2)*(alpha[1]/alpha[2])\n",
    "center_y"
   ]
  },
  {
   "cell_type": "code",
   "execution_count": 16,
   "metadata": {},
   "outputs": [
    {
     "data": {
      "text/plain": [
       "2.9064654338635476"
      ]
     },
     "execution_count": 16,
     "metadata": {},
     "output_type": "execute_result"
    }
   ],
   "source": [
    "center_x=(-1/2)*(alpha[0]/alpha[2])\n",
    "center_x"
   ]
  },
  {
   "cell_type": "code",
   "execution_count": 20,
   "metadata": {},
   "outputs": [
    {
     "data": {
      "text/plain": [
       "2.9487347902620056"
      ]
     },
     "execution_count": 20,
     "metadata": {},
     "output_type": "execute_result"
    }
   ],
   "source": [
    "rad= np.sqrt(center_x**2 + center_y**2 - alpha[3]/alpha[2])\n",
    "rad"
   ]
  },
  {
   "cell_type": "code",
   "execution_count": null,
   "metadata": {},
   "outputs": [],
   "source": []
  }
 ],
 "metadata": {
  "kernelspec": {
   "display_name": "Python 3",
   "language": "python",
   "name": "python3"
  },
  "language_info": {
   "codemirror_mode": {
    "name": "ipython",
    "version": 3
   },
   "file_extension": ".py",
   "mimetype": "text/x-python",
   "name": "python",
   "nbconvert_exporter": "python",
   "pygments_lexer": "ipython3",
   "version": "3.6.4"
  }
 },
 "nbformat": 4,
 "nbformat_minor": 2
}
