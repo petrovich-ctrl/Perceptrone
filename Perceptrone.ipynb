{
  "nbformat": 4,
  "nbformat_minor": 0,
  "metadata": {
    "kernelspec": {
      "display_name": "Python 3",
      "language": "python",
      "name": "python3"
    },
    "language_info": {
      "codemirror_mode": {
        "name": "ipython",
        "version": 3
      },
      "file_extension": ".py",
      "mimetype": "text/x-python",
      "name": "python",
      "nbconvert_exporter": "python",
      "pygments_lexer": "ipython3",
      "version": "3.6.4"
    },
    "colab": {
      "name": "Perceptrone1.ipynb",
      "provenance": [],
      "collapsed_sections": []
    }
  },
  "cells": [
    {
      "cell_type": "code",
      "metadata": {
        "id": "pQ2_4sSGTii7",
        "colab_type": "code",
        "colab": {}
      },
      "source": [
        "import numpy as np\n",
        "center=[2.0,2.5]\n",
        "r=3.9\n",
        "epsilon=10**(-3)"
      ],
      "execution_count": 0,
      "outputs": []
    },
    {
      "cell_type": "code",
      "metadata": {
        "id": "JfUKeqFfTijK",
        "colab_type": "code",
        "colab": {}
      },
      "source": [
        "def check_circle(x,a,r, epsilon):\n",        "    if ((x[0]-a[0])**2)+((x[1]-a[1])**2)>(r**2)+epsilon:\n",
        "        return 0\n",
        "    elif ((x[0]-a[0])**2)+((x[1]-a[1])**2)<(r**2)-epsilon:\n",
        "        return 1\n",
        "    else :\n",
        "        return -1\n"
      ],
      "execution_count": 0,
      "outputs": []
    },
    {
      "cell_type": "code",
      "metadata": {
        "id": "I8KY920gTijT",
        "colab_type": "code",
        "colab": {}
      },
      "source": [
        "def generate(a1,a2,a3,a4,amount):\n",
        "    x0=np.array([[0.0,0.0,1.0,0.0]])\n",
        "    x_coor = np.array([(np.random.rand()*(a2 - a1) + a1) for i in range(amount)])\n",
        "    y_coor = np.array([(np.random.rand()*(a4 - a3) + a3) for i in range(amount)])\n",
        "    res=np.array([x_coor,y_coor,(x_coor**2)+(y_coor**2),np.ones(amount)]).transpose()\n",
        "    res=np.concatenate((x0,res),axis=0)\n",
        "    return res"
      ],
      "execution_count": 0,
      "outputs": []
    },
    {
      "cell_type": "code",
      "metadata": {
        "id": "V9f04zVDTijf",
        "colab_type": "code",
        "colab": {}
      },
      "source": [
        "points=generate(-10,10,-10,10,1000)"
      ],
      "execution_count": 0,
      "outputs": []
    },
    {
      "cell_type": "code",
      "metadata": {
        "id": "udCvuj0tTijr",
        "colab_type": "code",
        "outputId": "52183b9b-574d-4da0-a6de-543c8f4ae430",
        "colab": {
          "base_uri": "https://localhost:8080/",
          "height": 35
        }
      },
      "source": [
        "points[0]"
      ],
      "execution_count": 180,
      "outputs": [
        {
          "output_type": "execute_result",
          "data": {
            "text/plain": [
              "array([0., 0., 1., 0.])"
            ]
          },
          "metadata": {
            "tags": []
          },
          "execution_count": 180
        }
      ]
    },
    {
      "cell_type": "code",
      "metadata": {
        "scrolled": true,
        "id": "immoXXOQTijw",
        "colab_type": "code",
        "outputId": "54553ed6-8eca-4cae-adfa-81fd9ea0676c",
        "colab": {
          "base_uri": "https://localhost:8080/",
          "height": 35
        }
      },
      "source": [
        "label=np.zeros(len(points))\n",
        "label[0]=0\n",
        "for i in range(len(points)-1):\n",
        "    label[i+1]=check_circle(points[i+1],center,r,epsilon)\n",
        "label.mean()"
      ],
      "execution_count": 181,
      "outputs": [
        {
          "output_type": "execute_result",
          "data": {
            "text/plain": [
              "0.1088911088911089"
            ]
          },
          "metadata": {
            "tags": []
          },
          "execution_count": 181
        }
      ]
    },
    {
      "cell_type": "code",
      "metadata": {
        "id": "qOz1yowuTij6",
        "colab_type": "code",
        "colab": {}
      },
      "source": [
        "alpha=np.array([0.0,0.0,0.0,0.0])"
      ],
      "execution_count": 0,
      "outputs": []
    },
    {
      "cell_type": "code",
      "metadata": {
        "id": "bju7jQ4STikA",
        "colab_type": "code",
        "colab": {}
      },
      "source": [
        "def scalar_prod(a,b):\n",
        
        "    res=0\n",
        "    for i in range(len(a)):\n",
        "        res+=a[i]*b[i]\n",
        "    return res"
      ],
      "execution_count": 0,
      "outputs": []
    },
    {
      "cell_type": "code",
      "metadata": {
        "id": "wBHsZbE8TikK",
        "colab_type": "code",
        "colab": {}
      },
      "source": [
        "a=0\n",
        "#algorithm\n",
        "while(a==0):\n",
        "    for i in range(len(points)):\n",
        "        if alpha.dot(points[i])>=0 and label[i]==0:\n",
        "            #print(i)\n",
        "            alpha=alpha-points[i]\n",
        "            break\n",
        "        if alpha.dot(points[i])<=0 and label[i]==1:\n",
        "            #print(i)\n",
        "            alpha=alpha+points[i]\n",
        "            break\n",
        "        if i==len(points)-1:\n",
        "            a=1\n",
        "            break\n",
        "        #alpha=alpha/alpha[2]"
      ],
      "execution_count": 0,
      "outputs": []
    },
    {
      "cell_type": "code",
      "metadata": {
        "id": "4Sob-gj8TikX",
        "colab_type": "code",
        "outputId": "80bb1ec7-fe0e-48bc-e603-9eaa655d90e2",
        "colab": {
          "base_uri": "https://localhost:8080/",
          "height": 35
        }
      },
      "source": [
        "alpha"
      ],
      "execution_count": 185,
      "outputs": [
        {
          "output_type": "execute_result",
          "data": {
            "text/plain": [
              "array([1187.42953511, 1516.23199903, -301.19339541, 1514.        ])"
            ]
          },
          "metadata": {
            "tags": []
          },
          "execution_count": 185
        }
      ]
    },
    {
      "cell_type": "code",
      "metadata": {
        "id": "8can41m4Tikd",
        "colab_type": "code",
        "outputId": "95cc7599-11f4-47a8-dc87-847435b08cf9",
        "colab": {
          "base_uri": "https://localhost:8080/",
          "height": 35
        }
      },
      "source": [
        "center_y=(-1/2)*(alpha[1]/alpha[2])\n",
        "center_y"
      ],
      "execution_count": 186,
      "outputs": [
        {
          "output_type": "execute_result",
          "data": {
            "text/plain": [
              "2.5170405827956315"
            ]
          },
          "metadata": {
            "tags": []
          },
          "execution_count": 186
        }
      ]
    },
    {
      "cell_type": "code",
      "metadata": {
        "id": "_lHwg0GDTikh",
        "colab_type": "code",
        "outputId": "f4c295c0-8cc9-4a01-cfb1-c2023e8b5efe",
        "colab": {
          "base_uri": "https://localhost:8080/",
          "height": 35
        }
      },
      "source": [
        "center_x=(-1/2)*(alpha[0]/alpha[2])\n",
        "center_x"
      ],
      "execution_count": 187,
      "outputs": [
        {
          "output_type": "execute_result",
          "data": {
            "text/plain": [
              "1.9712077907655894"
            ]
          },
          "metadata": {
            "tags": []
          },
          "execution_count": 187
        }
      ]
    },
    {
      "cell_type": "code",
      "metadata": {
        "id": "rNPL0avXTiko",
        "colab_type": "code",
        "outputId": "6f75d3f4-8aad-4071-d1d1-b1c61446fc7c",
        "colab": {
          "base_uri": "https://localhost:8080/",
          "height": 35
        }
      },
      "source": [
        "rad= np.sqrt(center_x**2 + center_y**2 - alpha[3]/alpha[2])\n",
        "rad"
      ],
      "execution_count": 188,
      "outputs": [
        {
          "output_type": "execute_result",
          "data": {
            "text/plain": [
              "3.904846232256831"
            ]
          },
          "metadata": {
            "tags": []
          },
          "execution_count": 188
        }
      ]
    },
    {
      "cell_type": "code",
      "metadata": {
        "id": "KogxO36xTiks",
        "colab_type": "code",
        "colab": {
          "base_uri": "https://localhost:8080/",
          "height": 35
        },
        "outputId": "8bd9098e-f8bc-4b9b-cf5c-af0e4865fd88"
      },
      "source": [
        "check_circle([2.0,0.0],[1.0,0.0],1.0,10**(-3))"
      ],
      "execution_count": 30,
      "outputs": [
        {
          "output_type": "execute_result",
          "data": {
            "text/plain": [
              "-1"
            ]
          },
          "metadata": {
            "tags": []
          },
          "execution_count": 30
        }
      ]
    }
  ]
}
